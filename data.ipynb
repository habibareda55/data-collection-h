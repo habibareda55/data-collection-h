{
 "cells": [
  {
   "cell_type": "markdown",
   "metadata": {},
   "source": [
    "### - Collect all user info from the API link and save data in a CSV file \n",
    "### - Collect data from page 2 and save data also in a CSV file\n",
    "### API Link : https://reqres.in/api/users\n"
   ]
  },
  {
   "cell_type": "code",
   "execution_count": 13,
   "metadata": {},
   "outputs": [
    {
     "name": "stdout",
     "output_type": "stream",
     "text": [
      "Data saved to users_info.csv\n"
     ]
    }
   ],
   "source": [
    "import requests\n",
    "import csv\n",
    "def get_data(url):\n",
    "    response = requests.get(url)\n",
    "    return response.json()\n",
    "url_page_1 = \"https://reqres.in/api/users?page=1\"\n",
    "url_page_2 = \"https://reqres.in/api/users?page=2\"\n",
    "data_page_1 = get_data(url_page_1)\n",
    "data_page_2 = get_data(url_page_2)\n",
    "full_data = data_page_1['data'] + data_page_2['data']\n",
    "csv_file = \"users_info.csv\"\n",
    "with open(csv_file, mode='w', newline='') as file:\n",
    "    writer = csv.writer(file)\n",
    "    writer.writerow([\"ID\", \"Email\", \"First Name\", \"Last Name\", \"Avatar\"])\n",
    "    for user in full_data:\n",
    "        writer.writerow([user['id'], user['email'], user['first_name'], user['last_name'], user['avatar']])\n",
    "\n",
    "print(f\"Data saved to {csv_file}\")\n"
   ]
  }
 ],
 "metadata": {
  "kernelspec": {
   "display_name": "base",
   "language": "python",
   "name": "python3"
  },
  "language_info": {
   "codemirror_mode": {
    "name": "ipython",
    "version": 3
   },
   "file_extension": ".py",
   "mimetype": "text/x-python",
   "name": "python",
   "nbconvert_exporter": "python",
   "pygments_lexer": "ipython3",
   "version": "3.7.6"
  }
 },
 "nbformat": 4,
 "nbformat_minor": 2
}
